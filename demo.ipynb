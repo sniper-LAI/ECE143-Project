{
 "cells": [
  {
   "cell_type": "code",
   "execution_count": 1,
   "metadata": {
    "id": "oMR4jbRX2GNm"
   },
   "outputs": [
    {
     "ename": "ModuleNotFoundError",
     "evalue": "No module named 'geopandas'",
     "output_type": "error",
     "traceback": [
      "\u001b[0;31m---------------------------------------------------------------------------\u001b[0m",
      "\u001b[0;31mModuleNotFoundError\u001b[0m                       Traceback (most recent call last)",
      "\u001b[0;32m<ipython-input-1-46aac6ba866e>\u001b[0m in \u001b[0;36m<module>\u001b[0;34m\u001b[0m\n\u001b[1;32m      5\u001b[0m \u001b[0;34m\u001b[0m\u001b[0m\n\u001b[1;32m      6\u001b[0m \u001b[0;32mfrom\u001b[0m \u001b[0mpylab\u001b[0m \u001b[0;32mimport\u001b[0m \u001b[0;34m*\u001b[0m\u001b[0;34m\u001b[0m\u001b[0;34m\u001b[0m\u001b[0m\n\u001b[0;32m----> 7\u001b[0;31m \u001b[0;32mimport\u001b[0m \u001b[0mgeopandas\u001b[0m \u001b[0;32mas\u001b[0m \u001b[0mgpd\u001b[0m\u001b[0;34m\u001b[0m\u001b[0;34m\u001b[0m\u001b[0m\n\u001b[0m\u001b[1;32m      8\u001b[0m \u001b[0;32mimport\u001b[0m \u001b[0mseaborn\u001b[0m \u001b[0;32mas\u001b[0m \u001b[0msns\u001b[0m\u001b[0;34m\u001b[0m\u001b[0;34m\u001b[0m\u001b[0m\n\u001b[1;32m      9\u001b[0m \u001b[0;32mimport\u001b[0m \u001b[0mfolium\u001b[0m\u001b[0;34m\u001b[0m\u001b[0;34m\u001b[0m\u001b[0m\n",
      "\u001b[0;31mModuleNotFoundError\u001b[0m: No module named 'geopandas'"
     ]
    }
   ],
   "source": [
    "import numpy as np \n",
    "import pandas as pd\n",
    "import matplotlib.pyplot as plt\n",
    "%matplotlib inline\n",
    "\n",
    "from pylab import *\n",
    "import geopandas as gpd\n",
    "import seaborn as sns\n",
    "import folium\n",
    "from folium.plugins import MarkerCluster\n",
    "from folium import plugins\n",
    "\n",
    "from wordcloud import WordCloud,STOPWORDS\n",
    "import plotly.express as px\n",
    "\n",
    "import warnings \n",
    "warnings.filterwarnings(\"ignore\", category=FutureWarning)"
   ]
  },
  {
   "cell_type": "code",
   "execution_count": null,
   "metadata": {
    "id": "2_nvC8-K2SdV"
   },
   "outputs": [],
   "source": [
    "# Image save path\n",
    "import os\n",
    "save_path = \"save/visualization/\"\n",
    "# Create save folder\n",
    "if not os.path.exists(save_path):\n",
    "    os.makedirs(save_path)\n",
    "# Set sns themec\n",
    "# plt.style.use('ggplot')\n",
    "sns.set_theme(style=\"whitegrid\")"
   ]
  },
  {
   "cell_type": "code",
   "execution_count": null,
   "metadata": {
    "colab": {
     "base_uri": "https://localhost:8080/",
     "height": 401
    },
    "id": "soRwBS_t2Uel",
    "outputId": "28498b03-7acf-4f33-e334-e4070c4a76fe"
   },
   "outputs": [],
   "source": [
    "# Create a pandas dataframe of the Airbnb data\n",
    "data = pd.read_csv('dataset/AB_NYC_2019.csv')\n",
    "data.head(5)"
   ]
  },
  {
   "cell_type": "code",
   "execution_count": null,
   "metadata": {},
   "outputs": [],
   "source": [
    "import os\n",
    "module_path = os.path.abspath(os.path.join('..'))\n",
    "if module_path not in sys.path:\n",
    "    sys.path.append(module_path)"
   ]
  },
  {
   "cell_type": "code",
   "execution_count": null,
   "metadata": {
    "id": "j-K1bcwI3M9v"
   },
   "outputs": [],
   "source": [
    "from code.visualization import numerical_plot\n",
    "attributes = ['latitude', 'longitude', 'price', 'minimum_nights', 'number_of_reviews', 'availability_365']\n",
    "numerical_plot(data,attributes,\"distplot\",\"plot_numerical_distribution_1.png\")\n",
    "numerical_plot(data,attributes,\"violinplot\",\"plot_numerical_distribution_2.png\")"
   ]
  },
  {
   "cell_type": "code",
   "execution_count": null,
   "metadata": {},
   "outputs": [],
   "source": [
    "from code.visualization import cm_plot\n",
    "drop_attributes = ['id', 'host_id', 'latitude', 'longitude']\n",
    "cm_plot(data, drop_attributes, \"plot_correlation_matrix.png\")"
   ]
  },
  {
   "cell_type": "code",
   "execution_count": null,
   "metadata": {},
   "outputs": [],
   "source": [
    "from code.visualization import geographical_distribution_colormap, geographical_distribution_scatterplot\n",
    "geographical_distribution_colormap(data[data.price < 500], 'price', \"dataset/New_York_City_.png.jpeg\", \"plot_heatmap_1.png\")\n",
    "geographical_distribution_colormap(data[data.price < 500], 'availability_365', \"dataset/New_York_City_.png.jpeg\", \"plot_heatmap_2.png\")\n",
    "geographical_distribution_scatterplot(data, \"neighbourhood_group\", \"dataset/New_York_City_.png.jpeg\", \"plot_scatterplot_1.png\")\n",
    "geographical_distribution_scatterplot(data, \"room_type\", \"dataset/New_York_City_.png.jpeg\", \"plot_scatterplot_2.png\")"
   ]
  },
  {
   "cell_type": "code",
   "execution_count": null,
   "metadata": {},
   "outputs": [],
   "source": [
    "from code.visualization import neighbourhood_group_hosts_analysis, neighbourhood_group_price_analysis, comprehensive_analysis\n",
    "neighbourhood_group_hosts_analysis(data, \"plot_count_neighbourhood_group.png\")\n",
    "neighbourhood_group_price_analysis(data[data.price<500], \"plot_price_neighberhood_group.png\")\n",
    "comprehensive_analysis(data, \"plot_room_price_neighberhood_group.png\")"
   ]
  },
  {
   "cell_type": "code",
   "execution_count": null,
   "metadata": {},
   "outputs": [],
   "source": [
    "from code.visualization import make_wordcloud\n",
    "make_wordcloud(data['name'].dropna())"
   ]
  },
  {
   "cell_type": "code",
   "execution_count": null,
   "metadata": {},
   "outputs": [],
   "source": []
  }
 ],
 "metadata": {
  "colab": {
   "collapsed_sections": [],
   "name": "Untitled1.ipynb",
   "provenance": []
  },
  "kernelspec": {
   "display_name": "Python 3",
   "language": "python",
   "name": "python3"
  },
  "language_info": {
   "codemirror_mode": {
    "name": "ipython",
    "version": 3
   },
   "file_extension": ".py",
   "mimetype": "text/x-python",
   "name": "python",
   "nbconvert_exporter": "python",
   "pygments_lexer": "ipython3",
   "version": "3.7.3"
  }
 },
 "nbformat": 4,
 "nbformat_minor": 1
}
